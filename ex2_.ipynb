{
  "nbformat": 4,
  "nbformat_minor": 0,
  "metadata": {
    "colab": {
      "provenance": [],
      "gpuType": "T4",
      "authorship_tag": "ABX9TyMvfE9pwhrzlSP/8mGGy1wh",
      "include_colab_link": true
    },
    "kernelspec": {
      "name": "python3",
      "display_name": "Python 3"
    },
    "language_info": {
      "name": "python"
    },
    "accelerator": "GPU"
  },
  "cells": [
    {
      "cell_type": "markdown",
      "metadata": {
        "id": "view-in-github",
        "colab_type": "text"
      },
      "source": [
        "<a href=\"https://colab.research.google.com/github/ann04ka/CV_exercises/blob/main/ex2_.ipynb\" target=\"_parent\"><img src=\"https://colab.research.google.com/assets/colab-badge.svg\" alt=\"Open In Colab\"/></a>"
      ]
    },
    {
      "cell_type": "markdown",
      "source": [
        "# Exercise 2\n"
      ],
      "metadata": {
        "id": "fV132lT3I_Gq"
      }
    },
    {
      "cell_type": "markdown",
      "source": [
        "## Рассмотрим архитектуры первых сверточных нейронных сетей: LeNet, Alexnet, VGG"
      ],
      "metadata": {
        "id": "oCfYxLdtOAzx"
      }
    },
    {
      "cell_type": "code",
      "source": [
        "import torch\n",
        "import torch.nn as nn\n",
        "import torch.optim as optim\n",
        "import torch.nn.functional as F\n",
        "import torchvision\n",
        "import torchvision.transforms as transforms"
      ],
      "metadata": {
        "id": "MP0AccFUyr27"
      },
      "execution_count": null,
      "outputs": []
    },
    {
      "cell_type": "code",
      "source": [
        "class LeNet(nn.Module):\n",
        "\n",
        "    def __init__(self):\n",
        "        super(LeNet, self).__init__()\n",
        "        self.conv1 = nn.Conv2d(3, 6, 5)\n",
        "        self.conv2 = nn.Conv2d(6, 16, 5)\n",
        "        self.fc1 = nn.Linear(16 * 5 * 5, 120)\n",
        "        self.fc2 = nn.Linear(120, 84)\n",
        "        self.fc3 = nn.Linear(84, 10)\n",
        "\n",
        "    def forward(self, input):\n",
        "        c1 = F.relu(self.conv1(input))\n",
        "        s2 = F.max_pool2d(c1, (2, 2))\n",
        "        c3 = F.relu(self.conv2(s2))\n",
        "        s4 = F.max_pool2d(c3, 2)\n",
        "        s4 = torch.flatten(s4, 1)\n",
        "        f5 = F.relu(self.fc1(s4))\n",
        "        f6 = F.relu(self.fc2(f5))\n",
        "        output = self.fc3(f6)\n",
        "        return output"
      ],
      "metadata": {
        "id": "daDWXKamzegt"
      },
      "execution_count": null,
      "outputs": []
    },
    {
      "cell_type": "code",
      "source": [
        "class AlexNet(nn.Module):\n",
        "\n",
        "    def __init__(self):\n",
        "        super(AlexNet, self).__init__()\n",
        "        self.conv1 = nn.Conv2d(3, 64, kernel_size=3, stride=1, padding=1)\n",
        "        self.conv2 = nn.Conv2d(64, 192, kernel_size=3, padding=1)\n",
        "        self.conv3 = nn.Conv2d(192, 384, kernel_size=3, padding=1)\n",
        "        self.conv4 = nn.Conv2d(384, 256, kernel_size=3, padding=1)\n",
        "        self.conv5 = nn.Conv2d(256, 256, kernel_size=3, padding=1)\n",
        "        self.fc1 = nn.Linear(256 * 4 * 4, 4096)\n",
        "        self.fc2 = nn.Linear(4096, 4096)\n",
        "        self.fc3 = nn.Linear(4096, 10)\n",
        "        self.dropout = nn.Dropout()\n",
        "\n",
        "    def forward(self, x):\n",
        "        x = F.relu(self.conv1(x))\n",
        "        x = F.max_pool2d(x, kernel_size=2, stride=2)\n",
        "        x = F.relu(self.conv2(x))\n",
        "        x = F.max_pool2d(x, kernel_size=2, stride=2)\n",
        "        x = F.relu(self.conv3(x))\n",
        "        x = F.relu(self.conv4(x))\n",
        "        x = F.relu(self.conv5(x))\n",
        "        x = F.max_pool2d(x, kernel_size=2, stride=2)\n",
        "        x = torch.flatten(x, 1)\n",
        "        x = self.dropout(x)\n",
        "        x = F.relu(self.fc1(x))\n",
        "        x = self.dropout(x)\n",
        "        x = F.relu(self.fc2(x))\n",
        "        x = self.fc3(x)\n",
        "        return x"
      ],
      "metadata": {
        "id": "xjdcjX20LgUu"
      },
      "execution_count": null,
      "outputs": []
    },
    {
      "cell_type": "markdown",
      "source": [
        "## Определим функции для обучения и тестирования моделей"
      ],
      "metadata": {
        "id": "w-dcoIJcNL9s"
      }
    },
    {
      "cell_type": "code",
      "source": [
        "def train_model(model, trainloader, criterion, optimizer, num_epochs=10):\n",
        "    model.train()\n",
        "    for epoch in range(num_epochs):\n",
        "        running_loss = 0.0\n",
        "        for i, data in enumerate(trainloader, 0):\n",
        "            inputs, labels = data\n",
        "            inputs, labels = inputs.to(device), labels.to(device)\n",
        "            optimizer.zero_grad()\n",
        "            outputs = model(inputs)\n",
        "            loss = criterion(outputs, labels)\n",
        "            loss.backward()\n",
        "            optimizer.step()\n",
        "            running_loss += loss.item()\n",
        "            if i % 100 == 99 and (epoch + 1) % 5 == 0:\n",
        "                print(f'[Epoch {epoch + 1}, Batch {i + 1}] loss: {running_loss / 100:.3f}')\n",
        "                running_loss = 0.0\n",
        "    print('Finished Training')"
      ],
      "metadata": {
        "id": "OVGRBX98ykBj"
      },
      "execution_count": null,
      "outputs": []
    },
    {
      "cell_type": "code",
      "source": [
        "from sklearn.metrics import f1_score, accuracy_score\n",
        "\n",
        "def evaluate_model(model, testloader, device):\n",
        "    model.eval()\n",
        "    all_preds = []\n",
        "    all_labels = []\n",
        "\n",
        "    with torch.no_grad():\n",
        "        for data in testloader:\n",
        "            images, labels = data\n",
        "            images, labels = images.to(device), labels.to(device)\n",
        "            outputs = model(images)\n",
        "            _, predicted = torch.max(outputs.data, 1)\n",
        "\n",
        "            all_preds.extend(predicted.cpu().numpy())\n",
        "            all_labels.extend(labels.cpu().numpy())\n",
        "\n",
        "    accuracy = accuracy_score(all_labels, all_preds)\n",
        "    f1 = f1_score(all_labels, all_preds, average='weighted')\n",
        "\n",
        "    print(f'Accuracy of the network on the test images: {round(accuracy, 3) * 100}%')\n",
        "    print(f'F1 Score of the network on the test images: {round(f1, 3)}')\n"
      ],
      "metadata": {
        "id": "ySusH8CZyoHg"
      },
      "execution_count": null,
      "outputs": []
    },
    {
      "cell_type": "markdown",
      "source": [
        "## Подготовим обучающую и тестовую выборку, возьмем CIFAR10"
      ],
      "metadata": {
        "id": "eZEIR0XYNZuQ"
      }
    },
    {
      "cell_type": "code",
      "source": [
        "device = torch.device(\"cuda\" if torch.cuda.is_available() else \"cpu\")\n",
        "\n",
        "transform = transforms.Compose(\n",
        "    [transforms.ToTensor(),\n",
        "     transforms.Normalize((0.5, 0.5, 0.5), (0.5, 0.5, 0.5))])\n",
        "\n",
        "trainset = torchvision.datasets.CIFAR10(root='./data', train=True,\n",
        "                                        download=True, transform=transform)\n",
        "trainloader = torch.utils.data.DataLoader(trainset, batch_size=100,\n",
        "                                          shuffle=True, num_workers=2)\n",
        "\n",
        "testset = torchvision.datasets.CIFAR10(root='./data', train=False,\n",
        "                                       download=True, transform=transform)\n",
        "testloader = torch.utils.data.DataLoader(testset, batch_size=100,\n",
        "                                         shuffle=False, num_workers=2)\n",
        "\n",
        "classes = ('plane', 'car', 'bird', 'cat', 'deer', 'dog', 'frog', 'horse', 'ship', 'truck')"
      ],
      "metadata": {
        "colab": {
          "base_uri": "https://localhost:8080/"
        },
        "id": "G2M_zbkhy4Xz",
        "outputId": "7533acf1-6625-4be9-fa43-d87075ea03ff"
      },
      "execution_count": null,
      "outputs": [
        {
          "output_type": "stream",
          "name": "stdout",
          "text": [
            "Files already downloaded and verified\n",
            "Files already downloaded and verified\n"
          ]
        }
      ]
    },
    {
      "cell_type": "markdown",
      "source": [
        "## Обучим все модели с одинаковми гиперпараметрами"
      ],
      "metadata": {
        "id": "T1cnbH-bN4eT"
      }
    },
    {
      "cell_type": "code",
      "source": [
        "model = torch.hub.load('pytorch/vision:v0.10.0', 'vgg11')\n",
        "model.to(device)\n",
        "criterion = nn.CrossEntropyLoss()\n",
        "optimizer = optim.SGD(model.parameters(), lr=0.01, momentum=0.9)\n",
        "\n",
        "train_model(model, trainloader, criterion, optimizer)\n",
        "\n",
        "evaluate_model(model, testloader, device)"
      ],
      "metadata": {
        "colab": {
          "base_uri": "https://localhost:8080/"
        },
        "id": "TiO6WPydtKw6",
        "outputId": "6ae80673-a88e-4997-b2ee-4f4df04832df"
      },
      "execution_count": null,
      "outputs": [
        {
          "output_type": "stream",
          "name": "stderr",
          "text": [
            "Using cache found in /root/.cache/torch/hub/pytorch_vision_v0.10.0\n"
          ]
        },
        {
          "output_type": "stream",
          "name": "stdout",
          "text": [
            "[Epoch 5, Batch 100] loss: 0.816\n",
            "[Epoch 5, Batch 200] loss: 0.828\n",
            "[Epoch 5, Batch 300] loss: 0.828\n",
            "[Epoch 5, Batch 400] loss: 0.782\n",
            "[Epoch 5, Batch 500] loss: 0.757\n",
            "[Epoch 10, Batch 100] loss: 0.233\n",
            "[Epoch 10, Batch 200] loss: 0.256\n",
            "[Epoch 10, Batch 300] loss: 0.309\n",
            "[Epoch 10, Batch 400] loss: 0.291\n",
            "[Epoch 10, Batch 500] loss: 0.324\n",
            "Finished Training\n",
            "Accuracy of the network on the test images: 75.8%\n",
            "F1 Score of the network on the test images: 0.757\n"
          ]
        }
      ]
    },
    {
      "cell_type": "code",
      "source": [
        "model = LeNet()\n",
        "model.to(device)\n",
        "criterion = nn.CrossEntropyLoss()\n",
        "optimizer = optim.SGD(model.parameters(), lr=0.01, momentum=0.9)\n",
        "\n",
        "train_model(model, trainloader, criterion, optimizer)\n",
        "\n",
        "evaluate_model(model, testloader, device)"
      ],
      "metadata": {
        "colab": {
          "base_uri": "https://localhost:8080/"
        },
        "id": "JNmhhV-SykJV",
        "outputId": "49f94494-d239-4f35-a7b1-e0abc94dd1a9"
      },
      "execution_count": null,
      "outputs": [
        {
          "output_type": "stream",
          "name": "stdout",
          "text": [
            "[Epoch 5, Batch 100] loss: 1.145\n",
            "[Epoch 5, Batch 200] loss: 1.144\n",
            "[Epoch 5, Batch 300] loss: 1.138\n",
            "[Epoch 5, Batch 400] loss: 1.130\n",
            "[Epoch 5, Batch 500] loss: 1.131\n",
            "[Epoch 10, Batch 100] loss: 0.839\n",
            "[Epoch 10, Batch 200] loss: 0.875\n",
            "[Epoch 10, Batch 300] loss: 0.862\n",
            "[Epoch 10, Batch 400] loss: 0.887\n",
            "[Epoch 10, Batch 500] loss: 0.880\n",
            "Finished Training\n",
            "Accuracy of the network on the test images: 63.7%\n",
            "F1 Score of the network on the test images: 0.637\n"
          ]
        }
      ]
    },
    {
      "cell_type": "code",
      "source": [
        "model = AlexNet()\n",
        "model.to(device)\n",
        "criterion = nn.CrossEntropyLoss()\n",
        "optimizer = optim.SGD(model.parameters(), lr=0.01, momentum=0.9)\n",
        "\n",
        "train_model(model, trainloader, criterion, optimizer)\n",
        "\n",
        "evaluate_model(model, testloader, device)"
      ],
      "metadata": {
        "colab": {
          "base_uri": "https://localhost:8080/"
        },
        "id": "xlMJ_l-DtKzj",
        "outputId": "71bdf4a2-59d1-471e-a774-a802a3141814"
      },
      "execution_count": null,
      "outputs": [
        {
          "output_type": "stream",
          "name": "stdout",
          "text": [
            "[Epoch 5, Batch 100] loss: 1.047\n",
            "[Epoch 5, Batch 200] loss: 1.020\n",
            "[Epoch 5, Batch 300] loss: 1.015\n",
            "[Epoch 5, Batch 400] loss: 0.980\n",
            "[Epoch 5, Batch 500] loss: 0.945\n",
            "[Epoch 10, Batch 100] loss: 0.532\n",
            "[Epoch 10, Batch 200] loss: 0.534\n",
            "[Epoch 10, Batch 300] loss: 0.526\n",
            "[Epoch 10, Batch 400] loss: 0.534\n",
            "[Epoch 10, Batch 500] loss: 0.548\n",
            "Finished Training\n",
            "Accuracy of the network on the test images: 77.7%\n",
            "F1 Score of the network on the test images: 0.772\n"
          ]
        }
      ]
    },
    {
      "cell_type": "code",
      "source": [],
      "metadata": {
        "id": "8rgrypWXtK7p"
      },
      "execution_count": null,
      "outputs": []
    }
  ]
}